{
 "cells": [
  {
   "cell_type": "code",
   "execution_count": 1,
   "metadata": {
    "_cell_guid": "b1076dfc-b9ad-4769-8c92-a6c4dae69d19",
    "_uuid": "8f2839f25d086af736a60e9eeb907d3b93b6e0e5",
    "execution": {
     "iopub.execute_input": "2023-03-28T02:17:28.080535Z",
     "iopub.status.busy": "2023-03-28T02:17:28.079755Z",
     "iopub.status.idle": "2023-03-28T02:17:35.259884Z",
     "shell.execute_reply": "2023-03-28T02:17:35.259017Z",
     "shell.execute_reply.started": "2023-03-28T02:09:19.439422Z"
    },
    "papermill": {
     "duration": 7.188351,
     "end_time": "2023-03-28T02:17:35.260165",
     "exception": false,
     "start_time": "2023-03-28T02:17:28.071814",
     "status": "completed"
    },
    "tags": []
   },
   "outputs": [
    {
     "name": "stdout",
     "output_type": "stream",
     "text": [
      "/kaggle/input/35-million-chess-games/all_with_filtered_anotations_since1998.txt\n"
     ]
    }
   ],
   "source": [
    "# This Python 3 environment comes with many helpful analytics libraries installed\n",
    "# It is defined by the kaggle/python Docker image: https://github.com/kaggle/docker-python\n",
    "# For example, here's several helpful packages to load\n",
    "import matplotlib.pyplot as plt\n",
    "import numpy as np # linear algebra\n",
    "import pandas as pd # data processing, CSV file I/O (e.g. pd.read_csv)\n",
    "import keras\n",
    "from keras.layers import Dense\n",
    "from sklearn.preprocessing import OneHotEncoder\n",
    "from sklearn.model_selection import train_test_split\n",
    "from sklearn.preprocessing import StandardScaler\n",
    "from sklearn.metrics import accuracy_score\n",
    "# Input data files are available in the read-only \"../input/\" directory\n",
    "# For example, running this (by clicking run or pressing Shift+Enter) will list all files under the input directory\n",
    "\n",
    "import os\n",
    "i = 0\n",
    "pathes = []\n",
    "for dirname, _, filenames in os.walk('/kaggle/input'):\n",
    "    for filename in filenames:\n",
    "        pathes.append(os.path.join(dirname, filename))\n",
    "        i = i + 1\n",
    "\n",
    "file = pathes[0]\n",
    "print(file)\n",
    "# You can write up to 20GB to the current directory (/kaggle/working/) that gets preserved as output when you create a version using \"Save & Run All\" \n",
    "# You can also write temporary files to /kaggle/temp/, but they won't be saved outside of the current session"
   ]
  },
  {
   "cell_type": "code",
   "execution_count": 2,
   "metadata": {
    "execution": {
     "iopub.execute_input": "2023-03-28T02:17:35.289322Z",
     "iopub.status.busy": "2023-03-28T02:17:35.287942Z",
     "iopub.status.idle": "2023-03-28T02:17:56.565148Z",
     "shell.execute_reply": "2023-03-28T02:17:56.564569Z",
     "shell.execute_reply.started": "2023-03-28T02:11:35.360781Z"
    },
    "papermill": {
     "duration": 21.300607,
     "end_time": "2023-03-28T02:17:56.565311",
     "exception": false,
     "start_time": "2023-03-28T02:17:35.264704",
     "status": "completed"
    },
    "tags": []
   },
   "outputs": [
    {
     "name": "stdout",
     "output_type": "stream",
     "text": [
      "Cloning into 'Capstone'...\r\n",
      "fatal: unable to access 'https://github.com/fluistro/Capstone.git/': Could not resolve host: github.com\r\n",
      "['__notebook__.ipynb']\n"
     ]
    }
   ],
   "source": [
    "CLONE_URL = \"https://github.com/fluistro/Capstone.git\"\n",
    "get_ipython().system(f\"git clone {CLONE_URL}\")\n",
    "\n",
    "import sys\n",
    "sys.path.append(\"Capstone\")\n",
    "print(os.listdir('.'))\n"
   ]
  },
  {
   "cell_type": "code",
   "execution_count": 3,
   "metadata": {
    "execution": {
     "iopub.execute_input": "2023-03-28T02:17:56.580910Z",
     "iopub.status.busy": "2023-03-28T02:17:56.580192Z",
     "iopub.status.idle": "2023-03-28T02:17:56.584442Z",
     "shell.execute_reply": "2023-03-28T02:17:56.584924Z",
     "shell.execute_reply.started": "2023-03-28T02:11:10.976998Z"
    },
    "papermill": {
     "duration": 0.015025,
     "end_time": "2023-03-28T02:17:56.585170",
     "exception": false,
     "start_time": "2023-03-28T02:17:56.570145",
     "status": "completed"
    },
    "tags": []
   },
   "outputs": [
    {
     "name": "stdout",
     "output_type": "stream",
     "text": [
      "['__notebook__.ipynb']\n",
      "__notebook__.ipynb\n"
     ]
    }
   ],
   "source": [
    "import os\n",
    "print(os.listdir('.'))\n",
    "files = [f for f in os.listdir('.') if os.path.isfile(f)]\n",
    "for f in files:\n",
    "    print(f)"
   ]
  }
 ],
 "metadata": {
  "kernelspec": {
   "display_name": "Python 3",
   "language": "python",
   "name": "python3"
  },
  "language_info": {
   "codemirror_mode": {
    "name": "ipython",
    "version": 3
   },
   "file_extension": ".py",
   "mimetype": "text/x-python",
   "name": "python",
   "nbconvert_exporter": "python",
   "pygments_lexer": "ipython3",
   "version": "3.7.9"
  },
  "papermill": {
   "default_parameters": {},
   "duration": 35.417855,
   "end_time": "2023-03-28T02:17:57.802825",
   "environment_variables": {},
   "exception": null,
   "input_path": "__notebook__.ipynb",
   "output_path": "__notebook__.ipynb",
   "parameters": {},
   "start_time": "2023-03-28T02:17:22.384970",
   "version": "2.2.2"
  }
 },
 "nbformat": 4,
 "nbformat_minor": 4
}
